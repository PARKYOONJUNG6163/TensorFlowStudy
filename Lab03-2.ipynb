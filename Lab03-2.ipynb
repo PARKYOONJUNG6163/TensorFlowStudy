{
 "cells": [
  {
   "cell_type": "code",
   "execution_count": 1,
   "metadata": {},
   "outputs": [],
   "source": [
    "import tensorflow as tf"
   ]
  },
  {
   "cell_type": "code",
   "execution_count": 7,
   "metadata": {},
   "outputs": [
    {
     "name": "stdout",
     "output_type": "stream",
     "text": [
      "0 4.438665 [0.02473468]\n",
      "1 1.2625536 [0.4798585]\n",
      "2 0.35912642 [0.72259116]\n",
      "3 0.10215149 [0.85204864]\n",
      "4 0.02905639 [0.9210926]\n",
      "5 0.008264924 [0.9579161]\n",
      "6 0.0023509215 [0.9775552]\n",
      "7 0.00066870224 [0.9880295]\n",
      "8 0.00019020571 [0.99361575]\n",
      "9 5.4103843e-05 [0.996595]\n",
      "10 1.5389349e-05 [0.998184]\n",
      "11 4.3775563e-06 [0.9990315]\n",
      "12 1.2452234e-06 [0.99948347]\n",
      "13 3.5411662e-07 [0.9997245]\n",
      "14 1.00757255e-07 [0.9998531]\n",
      "15 2.8660049e-08 [0.9999216]\n",
      "16 8.152082e-09 [0.9999582]\n",
      "17 2.3137403e-09 [0.9999777]\n",
      "18 6.6317324e-10 [0.9999881]\n",
      "19 1.8905766e-10 [0.9999936]\n",
      "20 5.4272437e-11 [0.9999966]\n"
     ]
    }
   ],
   "source": [
    "x_data = [1, 2, 3]\n",
    "y_data = [1, 2, 3]\n",
    "\n",
    "W = tf.Variable(tf.random_normal([1]), name='weight')\n",
    "X = tf.placeholder(tf.float32)\n",
    "Y = tf.placeholder(tf.float32)\n",
    "\n",
    "hypothesis = X * W\n",
    "\n",
    "cost = tf.reduce_mean(tf.square(hypothesis - Y))\n",
    "\n",
    "learning_rate = 0.1\n",
    "gradient = tf.reduce_mean((W * X - Y) * X)\n",
    "descent = W - learning_rate * gradient\n",
    "# W를 업데이트 시키고자 할 때 assign 함수 이용해서 값을 부여\n",
    "# assign 하는 operaion을 update라는 것에 담음\n",
    "update = W.assign(descent)\n",
    "\n",
    "# 위 식을 밑의 식처럼 처리하면 훨씬 간편함 똑같은 내용이다\n",
    "# cost = tf.reduce_mean(tf.square(hypothesis - Y))\n",
    "# optimizer = tf.train.GradientDescentOptimizer(learning_rate=0.01)\n",
    "# train = optimizer.minimize(cost)\n",
    "\n",
    "sess = tf.Session()\n",
    "sess.run(tf.global_variables_initializer())\n",
    "\n",
    "for step in range(21):\n",
    "    # x_data와 y_data를 던져주면서 update에 담았던 내용을 실행함\n",
    "    sess.run(update, feed_dict = {X : x_data, Y : y_data})\n",
    "    print(step, sess.run(cost, feed_dict={X : x_data, Y : y_data}), sess.run(W))"
   ]
  }
 ],
 "metadata": {
  "kernelspec": {
   "display_name": "Python 3",
   "language": "python",
   "name": "python3"
  },
  "language_info": {
   "codemirror_mode": {
    "name": "ipython",
    "version": 3
   },
   "file_extension": ".py",
   "mimetype": "text/x-python",
   "name": "python",
   "nbconvert_exporter": "python",
   "pygments_lexer": "ipython3",
   "version": "3.6.8"
  }
 },
 "nbformat": 4,
 "nbformat_minor": 2
}
