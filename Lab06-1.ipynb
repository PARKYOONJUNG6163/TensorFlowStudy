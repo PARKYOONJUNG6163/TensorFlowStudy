{
 "cells": [
  {
   "cell_type": "code",
   "execution_count": 1,
   "metadata": {},
   "outputs": [],
   "source": [
    "import tensorflow as tf"
   ]
  },
  {
   "cell_type": "code",
   "execution_count": 3,
   "metadata": {},
   "outputs": [
    {
     "name": "stdout",
     "output_type": "stream",
     "text": [
      "0 7.859073\n",
      "200 0.6599911\n",
      "400 0.5419162\n",
      "600 0.44674447\n",
      "800 0.35577163\n",
      "1000 0.26723742\n",
      "1200 0.2255473\n",
      "1400 0.20509925\n",
      "1600 0.18791695\n",
      "1800 0.17328611\n",
      "2000 0.16068868\n",
      "--------------\n",
      "[[3.0651914e-03 9.9692541e-01 9.3802410e-06]] [1]\n",
      "--------------\n",
      "[[0.9010349  0.09078137 0.00818367]] [0]\n",
      "--------------\n",
      "[[2.2592335e-08 3.7704743e-04 9.9962294e-01]] [2]\n",
      "--------------\n",
      "[[3.0651914e-03 9.9692541e-01 9.3802410e-06]\n",
      " [9.0103489e-01 9.0781368e-02 8.1836712e-03]\n",
      " [2.2592335e-08 3.7704743e-04 9.9962294e-01]] [1 0 2]\n"
     ]
    }
   ],
   "source": [
    "x_data = [[1,2,1,1], [2,1,3,2], [3,1,3,4], [4,1,5,5], [1,7,5,5], [1,2,5,6], [1,6,6,6], [1,7,7,7]]\n",
    "# 여러개의 클래스가 있으므로 한자리로 표현하는 것이 불가능 => one-hot encoding (하나만 핫하다)\n",
    "y_data = [[0,0,1], [0,0,1], [0,0,1], [0,1,0], [0,1,0], [0,1,0], [1,0,0], [1,0,0]] # 2,2,2,1,1,1,0,0\n",
    "\n",
    "X = tf.placeholder(\"float\",[None, 4])\n",
    "Y = tf.placeholder(\"float\", [None, 3])\n",
    "nb_classes = 3 # 클래스가 몇개인가\n",
    "\n",
    "W = tf.Variable(tf.random_normal([4, nb_classes]), name='weight') #들어오는건 4 나가는건 3\n",
    "b = tf.Variable(tf.random_normal([nb_classes]), name='bias')\n",
    "\n",
    "# softmax = exp(Logits) / reduce_sum(exp(Logits), dim)\n",
    "hypothesis = tf.nn.softmax(tf.matmul(X, W) + b)\n",
    "\n",
    "cost = tf.reduce_mean(-tf.reduce_sum(Y * tf.log(hypothesis), axis = 1))\n",
    "optimizer = tf.train.GradientDescentOptimizer(learning_rate=0.1).minimize(cost)\n",
    "\n",
    "with tf.Session() as sess:\n",
    "    sess.run(tf.global_variables_initializer())\n",
    "    \n",
    "    for step in range(2001):\n",
    "        sess.run(optimizer, feed_dict={X:x_data, Y:y_data})\n",
    "        if step % 200 == 0 :\n",
    "            print(step, sess.run(cost, feed_dict={X:x_data, Y:y_data}))\n",
    "    \n",
    "    print('--------------')\n",
    "    # Testing & One-hot encoding\n",
    "    a = sess.run(hypothesis, feed_dict={X: [[1, 11, 7, 9]]})\n",
    "    print(a, sess.run(tf.argmax(a, 1))) # arg_max함수 : 몇번째 있는게 가장 수가 큰가\n",
    "\n",
    "    print('--------------')\n",
    "    b = sess.run(hypothesis, feed_dict={X: [[1, 3, 4, 3]]})\n",
    "    print(b, sess.run(tf.argmax(b, 1)))\n",
    "\n",
    "    print('--------------')\n",
    "    c = sess.run(hypothesis, feed_dict={X: [[1, 1, 0, 1]]})\n",
    "    print(c, sess.run(tf.argmax(c, 1)))\n",
    "\n",
    "    print('--------------')\n",
    "    all = sess.run(hypothesis, feed_dict={X: [[1, 11, 7, 9], [1, 3, 4, 3], [1, 1, 0, 1]]})\n",
    "    print(all, sess.run(tf.argmax(all, 1)))"
   ]
  }
 ],
 "metadata": {
  "kernelspec": {
   "display_name": "Python 3",
   "language": "python",
   "name": "python3"
  },
  "language_info": {
   "codemirror_mode": {
    "name": "ipython",
    "version": 3
   },
   "file_extension": ".py",
   "mimetype": "text/x-python",
   "name": "python",
   "nbconvert_exporter": "python",
   "pygments_lexer": "ipython3",
   "version": "3.6.8"
  }
 },
 "nbformat": 4,
 "nbformat_minor": 2
}
